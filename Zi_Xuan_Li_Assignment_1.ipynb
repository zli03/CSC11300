{
  "cells": [
    {
      "cell_type": "markdown",
      "metadata": {
        "id": "-TSDBp2PbQDi"
      },
      "source": [
        "# Assignments 1 (100)\n",
        "\n",
        "## This assignment contains eight questions. Please use your code to answer the below questions. The deadline is 10/17/2023 11:59 PM EST. Please submit your notebook to the blackboard. There is no late submission. Please do not copy others' codes. I will carefully check your work."
      ]
    },
    {
      "cell_type": "code",
      "execution_count": null,
      "metadata": {
        "id": "5Ls-STqkbQDj"
      },
      "outputs": [],
      "source": []
    },
    {
      "cell_type": "markdown",
      "metadata": {
        "id": "3F-jIFxFbQDj"
      },
      "source": [
        "# a. Arithmetic operator (10)\n",
        ">  1. Please use arithmetic operators to present the below equation\n",
        ">  2. when a = 101, b = -50, what's y value ?\n",
        "\n"
      ]
    },
    {
      "cell_type": "code",
      "execution_count": null,
      "metadata": {
        "colab": {
          "base_uri": "https://localhost:8080/",
          "height": 38
        },
        "id": "KkHmyL8ObQDj",
        "outputId": "081097cc-2230-4a4e-8117-633f2fbb3dd9"
      },
      "outputs": [
        {
          "output_type": "display_data",
          "data": {
            "text/plain": [
              "<IPython.core.display.Math object>"
            ],
            "text/latex": "$\\displaystyle y = a^{3}+ 2(a+b)^{2}-33ab-7$"
          },
          "metadata": {}
        }
      ],
      "source": [
        "from IPython.display import display, Math, Latex\n",
        "display(Math(r'y = a^{3}+ 2(a+b)^{2}-33ab-7'))"
      ]
    },
    {
      "cell_type": "code",
      "execution_count": null,
      "metadata": {
        "colab": {
          "base_uri": "https://localhost:8080/"
        },
        "id": "AWLljre0bQDk",
        "outputId": "c7239fe0-1d0f-48bd-8034-bc458102212b"
      },
      "outputs": [
        {
          "output_type": "stream",
          "name": "stdout",
          "text": [
            "1202146\n"
          ]
        }
      ],
      "source": [
        "## put you code and answer here\n",
        "a, b, y = 101, -50, 0\n",
        "y = a**3 + 2 * (a + b)**2 - 33 * a * b - 7\n",
        "print(y)"
      ]
    },
    {
      "cell_type": "code",
      "execution_count": null,
      "metadata": {
        "id": "wiMhVW7nbQDk"
      },
      "outputs": [],
      "source": []
    },
    {
      "cell_type": "markdown",
      "metadata": {
        "id": "bRhXOZeZbQDk"
      },
      "source": [
        "# b.1 print the length of the string value var (10)"
      ]
    },
    {
      "cell_type": "code",
      "execution_count": null,
      "metadata": {
        "id": "WuOFjtOmbQDk"
      },
      "outputs": [],
      "source": [
        "var ='##2002364 But the huge bonus prize is the real draw -- announced by an electronic display that resembles the ticking wheel on the TV game show , placed just above eye level . As her losses mounted to more than $200 , Budz fed the machine $5 tokens , pressing the Spin button almost rhythmically -- no serious slot player touches the pull handle on a one-armed bandit .'"
      ]
    },
    {
      "cell_type": "code",
      "execution_count": null,
      "metadata": {
        "colab": {
          "base_uri": "https://localhost:8080/"
        },
        "id": "7zjedNLvbQDk",
        "outputId": "d0a9a1df-e8bc-4ed7-d6c8-fb93513933d7"
      },
      "outputs": [
        {
          "output_type": "stream",
          "name": "stdout",
          "text": [
            "368\n"
          ]
        }
      ],
      "source": [
        "from IPython.utils.text import string\n",
        "## put you code and answer here\n",
        "var ='##2002364 But the huge bonus prize is the real draw -- announced by an electronic display that resembles the ticking wheel on the TV game show , placed just above eye level . As her losses mounted to more than $200 , Budz fed the machine $5 tokens , pressing the Spin button almost rhythmically -- no serious slot player touches the pull handle on a one-armed bandit .'\n",
        "print(len(var))"
      ]
    },
    {
      "cell_type": "code",
      "execution_count": null,
      "metadata": {
        "id": "FCJvgnwgbQDk"
      },
      "outputs": [],
      "source": []
    },
    {
      "cell_type": "markdown",
      "metadata": {
        "id": "o9qsCN_VbQDk"
      },
      "source": [
        "# b.2 print the total number of the words inside var (10)"
      ]
    },
    {
      "cell_type": "code",
      "execution_count": null,
      "metadata": {
        "id": "FnfHw9yhbQDl"
      },
      "outputs": [],
      "source": [
        "var ='##2002364 But the huge bonus prize is the real draw announced by an electronic display that resembles the ticking wheel on the TV game show placed just above eye level As her losses mounted to more than $200 Budz fed the machine $5 tokens pressing the Spin button almost rhythmically no serious slot player touches the pull handle on a one-armed bandit'\n"
      ]
    },
    {
      "cell_type": "code",
      "execution_count": null,
      "metadata": {
        "colab": {
          "base_uri": "https://localhost:8080/"
        },
        "id": "s7lS3Ls-bQDl",
        "outputId": "db646969-77ee-48b2-a23d-e2bf30eb932b"
      },
      "outputs": [
        {
          "output_type": "stream",
          "name": "stdout",
          "text": [
            "62\n"
          ]
        }
      ],
      "source": [
        "## put you code and answer here\n",
        "var ='##2002364 But the huge bonus prize is the real draw announced by an electronic display that resembles the ticking wheel on the TV game show placed just above eye level As her losses mounted to more than $200 Budz fed the machine $5 tokens pressing the Spin button almost rhythmically no serious slot player touches the pull handle on a one-armed bandit'\n",
        "numofWords = var.split()\n",
        "print(len(numofWords))"
      ]
    },
    {
      "cell_type": "code",
      "execution_count": null,
      "metadata": {
        "id": "QJZTPjNEbQDl"
      },
      "outputs": [],
      "source": []
    },
    {
      "cell_type": "markdown",
      "metadata": {
        "id": "_0dUXcB4bQDl"
      },
      "source": [
        "## C logicial operators"
      ]
    },
    {
      "cell_type": "code",
      "execution_count": null,
      "metadata": {
        "id": "M8kF8sO0bQDl"
      },
      "outputs": [],
      "source": [
        "a = 90>0  #true\n",
        "b = 100<1 #false\n",
        "c = 125==125 #true\n",
        "d = c==b #false"
      ]
    },
    {
      "cell_type": "markdown",
      "metadata": {
        "id": "TFP0B3eMbQDl"
      },
      "source": [
        "# question c.1 (10)\n"
      ]
    },
    {
      "cell_type": "code",
      "execution_count": null,
      "metadata": {
        "colab": {
          "base_uri": "https://localhost:8080/"
        },
        "id": "ffIQzbwHbQDl",
        "outputId": "b48515ed-cbd8-4472-e1bc-ccc716818069"
      },
      "outputs": [
        {
          "output_type": "execute_result",
          "data": {
            "text/plain": [
              "True"
            ]
          },
          "metadata": {},
          "execution_count": 23
        }
      ],
      "source": [
        "a or b and c and d or b and a or d"
      ]
    },
    {
      "cell_type": "code",
      "execution_count": null,
      "metadata": {
        "id": "GRvQm5gVbQDl"
      },
      "outputs": [],
      "source": [
        "### please write down the steps as the example in the notebook of operator precedence to get the result True, you can use ## for each steps in this cell\n",
        "\n",
        "## a or b and c and d or b and a or d\n",
        "## a or (b and c and d) or (b and a) or d\n",
        "## a or (false) or (false) or d\n",
        "## true or false or false or false\n",
        "\n",
        "## true"
      ]
    },
    {
      "cell_type": "code",
      "execution_count": null,
      "metadata": {
        "id": "Luqd4q_FbQDl"
      },
      "outputs": [],
      "source": []
    },
    {
      "cell_type": "markdown",
      "metadata": {
        "id": "upCAT3SabQDl"
      },
      "source": [
        "# question c.2 (10)"
      ]
    },
    {
      "cell_type": "code",
      "execution_count": null,
      "metadata": {
        "colab": {
          "base_uri": "https://localhost:8080/"
        },
        "id": "F5vnvU8jbQDl",
        "outputId": "81e4c28b-edda-451b-8593-9a5323d6ceb2"
      },
      "outputs": [
        {
          "output_type": "execute_result",
          "data": {
            "text/plain": [
              "False"
            ]
          },
          "metadata": {},
          "execution_count": 24
        }
      ],
      "source": [
        "not a or b and not(c and d or not b and a or d)"
      ]
    },
    {
      "cell_type": "code",
      "execution_count": null,
      "metadata": {
        "id": "YLRjJUbgbQDm"
      },
      "outputs": [],
      "source": [
        "### please write down the steps as the example in the notebook of operator precedence to get the result True, you can use ## for each steps in this cell\n",
        "\n",
        "## not a or b and not(c and d or not b and a or d)\n",
        "## (not a) or (b and (not((c and d) or ((not b) and a) or d)))\n",
        "## (false) or (b and (not((c and d) or ((true) and a) or d)))\n",
        "## (false) or (b and (not((false) or (true) or d)))\n",
        "## (false) or (b and (not(true)))\n",
        "## (false) or (b and (false))\n",
        "## (false) or (false)\n",
        "\n",
        "## false"
      ]
    },
    {
      "cell_type": "code",
      "execution_count": null,
      "metadata": {
        "id": "69309oy5bQDm"
      },
      "outputs": [],
      "source": []
    },
    {
      "cell_type": "markdown",
      "metadata": {
        "id": "MLlrnnCEbQDm"
      },
      "source": [
        "# question c.3 (10)"
      ]
    },
    {
      "cell_type": "code",
      "execution_count": null,
      "metadata": {
        "colab": {
          "base_uri": "https://localhost:8080/"
        },
        "id": "Ia_FxnfIbQDm",
        "outputId": "c1d22da0-2e5f-4d8c-d97a-d1770d9c8fb9"
      },
      "outputs": [
        {
          "output_type": "execute_result",
          "data": {
            "text/plain": [
              "False"
            ]
          },
          "metadata": {},
          "execution_count": 30
        }
      ],
      "source": [
        "not (a or b) and not(c and (d or not b) and not a or d)"
      ]
    },
    {
      "cell_type": "code",
      "execution_count": null,
      "metadata": {
        "id": "Mxxmeak7bQDm"
      },
      "outputs": [],
      "source": [
        "### please write down the steps as the example in the notebook of operator precedence to get the result True, you can use ## for each steps in this cell\n",
        "\n",
        "## not (a or b) and not(c and (d or not b) and not a or d)\n",
        "## (not (a or b)) and (not (c and (d or (not b)) and (not a) or d))\n",
        "## (not (a or b)) and (not (c and (d or (true)) and (false) or d))\n",
        "## (not (a or b)) and (not (c and (true) and (false) or d))\n",
        "## (not (a or b)) and (not (false or d))\n",
        "## (not (a or b)) and (not (false))\n",
        "## (not (a or b)) and (true)\n",
        "## (not (true)) and (true)\n",
        "## (false) and (true)\n",
        "\n",
        "## false"
      ]
    },
    {
      "cell_type": "code",
      "execution_count": null,
      "metadata": {
        "id": "lmuznjQMbQDm"
      },
      "outputs": [],
      "source": []
    },
    {
      "cell_type": "markdown",
      "metadata": {
        "id": "RTwhr9mEbQDm"
      },
      "source": [
        "# d decimal to binary"
      ]
    },
    {
      "cell_type": "markdown",
      "metadata": {
        "id": "m8twELXUbQDm"
      },
      "source": [
        "# question d.1 (10)\n",
        "### Please write how you get the binary value of 111"
      ]
    },
    {
      "cell_type": "markdown",
      "metadata": {
        "id": "-rNAtA4hbQDm"
      },
      "source": [
        "##### (You must write detail steps like the class example, direct result will get full credits)"
      ]
    },
    {
      "cell_type": "code",
      "execution_count": null,
      "metadata": {
        "colab": {
          "base_uri": "https://localhost:8080/",
          "height": 35
        },
        "id": "0V2colDdbQDm",
        "outputId": "8ea74e5b-bd8d-4d1f-edc2-c590c8b37aac"
      },
      "outputs": [
        {
          "output_type": "execute_result",
          "data": {
            "text/plain": [
              "'0b1101111'"
            ],
            "application/vnd.google.colaboratory.intrinsic+json": {
              "type": "string"
            }
          },
          "metadata": {},
          "execution_count": 50
        }
      ],
      "source": [
        "## put you code and answer here\n",
        "\n",
        "## 111 = 2^6(1) + 2^5(1) + 2^4(0) + 2^3(1) + 2^2(1) + 2^1(1) + 2^0(1)\n",
        "## 111 = 64 + 32 + 0 + 8 + 4 + 2 + 1\n",
        "## 111 in decimal = 1101111 in binary\n",
        "\n",
        "## alternatively you could divide 111 by 2 consecutively and combining the remainders\n",
        "## 111 / 2 = 55 r 1\n",
        "## 55 / 2 = 27 r 1\n",
        "## 27 / 2 = 13 r 1\n",
        "## 13 / 2 = 6 r 1\n",
        "## 6 / 2 = 3 r 0\n",
        "## 3 / 2 = 1 r 1\n",
        "## 1\n",
        "## 1101111\n",
        "\n",
        "bin(111)\n",
        "##binary value of 111 is 1101111"
      ]
    },
    {
      "cell_type": "code",
      "execution_count": null,
      "metadata": {
        "id": "oSnluorcbQDm"
      },
      "outputs": [],
      "source": []
    },
    {
      "cell_type": "markdown",
      "metadata": {
        "id": "fcbH5MVQbQDm"
      },
      "source": [
        "# question d.2 (15)"
      ]
    },
    {
      "cell_type": "markdown",
      "metadata": {
        "id": "XTPKjrW2bQDm"
      },
      "source": [
        "### Please write how you get the binary value of -137"
      ]
    },
    {
      "cell_type": "markdown",
      "metadata": {
        "id": "ZHyOJd_GbQDn"
      },
      "source": [
        "##### (You must detail steps, direct result will get full credits)"
      ]
    },
    {
      "cell_type": "code",
      "execution_count": null,
      "metadata": {
        "colab": {
          "base_uri": "https://localhost:8080/",
          "height": 35
        },
        "id": "2LWuUI7ibQDn",
        "outputId": "3f4b761c-4b87-4250-d758-4818c2265913"
      },
      "outputs": [
        {
          "output_type": "execute_result",
          "data": {
            "text/plain": [
              "'-0b10001001'"
            ],
            "application/vnd.google.colaboratory.intrinsic+json": {
              "type": "string"
            }
          },
          "metadata": {},
          "execution_count": 48
        }
      ],
      "source": [
        "## put you code and answer here\n",
        "\n",
        "## 137 = 2^7(1) + 2^6(0) + 2^5(0) + 2^4(0) + 2^3(1) + 2^2(0) + 2^1(0) + 2^0(1)\n",
        "## 137 = 128 + 0 + 0 + 0 + 8 + 0 + 0 + 1\n",
        "## binary representation of 137 is 10001001\n",
        "\n",
        "## convert binary representation of 137 to ones complement\n",
        "## 10001001 -> 01110110\n",
        "\n",
        "## convert to twos complement\n",
        "## 01110110\n",
        "##        1\n",
        "## 01110111\n",
        "\n",
        "## add a 1 to the leftmost digit to represent a negative number\n",
        "## binary value of -137 in twos complement is 101110111\n",
        "\n",
        "bin(-137)\n",
        "## binary value of -137 is -10001001"
      ]
    },
    {
      "cell_type": "code",
      "execution_count": null,
      "metadata": {
        "id": "72vvNb6ebQDn"
      },
      "outputs": [],
      "source": []
    },
    {
      "cell_type": "markdown",
      "metadata": {
        "id": "T4QQF3IfbQDn"
      },
      "source": [
        "# question d.3 (15)"
      ]
    },
    {
      "cell_type": "markdown",
      "metadata": {
        "id": "gmC_Xk7wbQDp"
      },
      "source": [
        "### Please write how you get the binary value of -144"
      ]
    },
    {
      "cell_type": "markdown",
      "metadata": {
        "id": "A4-6LwApbQDp"
      },
      "source": [
        "##### (You must detail steps, direct result will get full credits)"
      ]
    },
    {
      "cell_type": "code",
      "execution_count": null,
      "metadata": {
        "colab": {
          "base_uri": "https://localhost:8080/",
          "height": 35
        },
        "id": "GH13DMYtbQDp",
        "outputId": "a08e44f5-8ebb-4af1-fa41-c8445649508f"
      },
      "outputs": [
        {
          "output_type": "execute_result",
          "data": {
            "text/plain": [
              "'-0b10010000'"
            ],
            "application/vnd.google.colaboratory.intrinsic+json": {
              "type": "string"
            }
          },
          "metadata": {},
          "execution_count": 47
        }
      ],
      "source": [
        "## put you code and answer here\n",
        "\n",
        "## 144 = 2^7(1) + 2^6(0) + 2^5(0) + 2^4(1) + 2^3(0) + 2^2(0) + 2^1(0) + 2^0(0)\n",
        "## 144 = 128 + 0 + 0 + 16 + 0 + 0 + 0 + 0\n",
        "## binary representation of 144 is 10010000\n",
        "\n",
        "## convert binary representation of 144 to ones complement\n",
        "## 10010000 -> 01101111\n",
        "\n",
        "## convert to twos complement\n",
        "## 01101111\n",
        "##        1\n",
        "## 01110000\n",
        "\n",
        "## add a 1 to the leftmost digit to represent a negative number\n",
        "## binary value of -144 in twos complement is 101110000\n",
        "\n",
        "bin(-144)\n",
        "## binary value of -144 is -10010000"
      ]
    },
    {
      "cell_type": "code",
      "execution_count": null,
      "metadata": {
        "id": "VT1xNolSbQDp"
      },
      "outputs": [],
      "source": []
    }
  ],
  "metadata": {
    "kernelspec": {
      "display_name": "Python 3 (ipykernel)",
      "language": "python",
      "name": "python3"
    },
    "language_info": {
      "codemirror_mode": {
        "name": "ipython",
        "version": 3
      },
      "file_extension": ".py",
      "mimetype": "text/x-python",
      "name": "python",
      "nbconvert_exporter": "python",
      "pygments_lexer": "ipython3",
      "version": "3.11.5"
    },
    "colab": {
      "provenance": []
    }
  },
  "nbformat": 4,
  "nbformat_minor": 0
}