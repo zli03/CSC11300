{
  "cells": [
    {
      "cell_type": "markdown",
      "id": "059f74fc",
      "metadata": {
        "id": "059f74fc"
      },
      "source": [
        "- # Assignment 3 (Total Points: 100)\n",
        "-\n",
        "- **Deadline:** Nov 26th midnight. No late work will be accepted. Please submit your .ipynb file to blackboard\n",
        "\n",
        "- **Note:** This assignment is to be done individually. Collaboration with peers, copying code, or any form of academic dishonesty will not be tolerated.\n",
        "\n",
        "- **Academic Integrity:**\n",
        "- It's crucial to work independently and submit your own work.\n",
        "- Plagiarism or cheating will result in a zero for this assignment and may have further consequences as per academic regulations.\n",
        "- If you reference any resources or materials outside of class notes and official documentation, be sure to cite them.\n"
      ]
    },
    {
      "cell_type": "code",
      "execution_count": null,
      "id": "55597711",
      "metadata": {
        "id": "55597711"
      },
      "outputs": [],
      "source": []
    },
    {
      "cell_type": "markdown",
      "id": "a400a842",
      "metadata": {
        "id": "a400a842"
      },
      "source": [
        "### Question 1: (20 Points: )"
      ]
    },
    {
      "cell_type": "markdown",
      "id": "7da186b4",
      "metadata": {
        "id": "7da186b4"
      },
      "source": [
        "![Google Drive Image](https://drive.google.com/uc?export=view&id=1fLKBkYkIoMdaCbtdZ0zMOjPry0AR_44m)\n",
        "![Google Drive Image](https://drive.google.com/uc?export=view&id=18gDkl6X_zca3CCIxp9lNTcb9_YpSrwq1)\n"
      ]
    },
    {
      "cell_type": "code",
      "execution_count": null,
      "id": "941a7101",
      "metadata": {
        "colab": {
          "base_uri": "https://localhost:8080/"
        },
        "id": "941a7101",
        "outputId": "ce4788ed-4630-4c88-c0bc-5c97daab5b74"
      },
      "outputs": [
        {
          "output_type": "stream",
          "name": "stdout",
          "text": [
            "Input: s = abccbaacz\n",
            "Output: c\n",
            "\n",
            "Input: s = abcdd\n",
            "Output: d\n"
          ]
        }
      ],
      "source": [
        "def question1(s):      #For every char in the string, add the char to a set. If the char is already in the set, then return the char because it has already appeared once before.\n",
        "    char_set = set()\n",
        "\n",
        "    for char in s:\n",
        "      if char in char_set:\n",
        "        return char\n",
        "      else:\n",
        "        char_set.add(char)\n",
        "    return None\n",
        "\n",
        "s1 = \"abccbaacz\"\n",
        "s2 = \"abcdd\"\n",
        "\n",
        "result1 = question1(s1)\n",
        "result2 = question1(s2)\n",
        "\n",
        "print(f\"Input: s = {s1}\\nOutput: {question1(s1)}\")\n",
        "print(f\"\\nInput: s = {s2}\\nOutput: {question1(s2)}\")\n"
      ]
    },
    {
      "cell_type": "code",
      "execution_count": null,
      "id": "34f38cec",
      "metadata": {
        "id": "34f38cec"
      },
      "outputs": [],
      "source": []
    },
    {
      "cell_type": "markdown",
      "id": "78d668d7",
      "metadata": {
        "id": "78d668d7"
      },
      "source": [
        "### Question 2: (20 Points: )"
      ]
    },
    {
      "cell_type": "markdown",
      "id": "bfef2341",
      "metadata": {
        "id": "bfef2341"
      },
      "source": [
        "![Google Drive Image](https://drive.google.com/uc?export=view&id=1GT4xb7CBzZN18k4CvLmhA2KsWckTM7D_)\n"
      ]
    },
    {
      "cell_type": "code",
      "execution_count": null,
      "id": "57e34289",
      "metadata": {
        "colab": {
          "base_uri": "https://localhost:8080/"
        },
        "id": "57e34289",
        "outputId": "8034d787-f6a2-461e-a191-7ef605011f5d"
      },
      "outputs": [
        {
          "output_type": "stream",
          "name": "stdout",
          "text": [
            "Input: a = 11, b = 1\n",
            "Output: 100\n",
            "\n",
            "Input: a = 1010, b = 1011\n",
            "Output: 10101\n"
          ]
        }
      ],
      "source": [
        "def question2(a, b):      #Leverage int to convert a string to a specific base, and bin to convert answer to binary.\n",
        "    sum = 0\n",
        "    sum = bin(int(a,2) + (int(b,2)))[2:]\n",
        "    return sum\n",
        "\n",
        "a1 = \"11\"\n",
        "b1 = \"1\"\n",
        "a2 = \"1010\"\n",
        "b2 = \"1011\"\n",
        "\n",
        "print(f\"Input: a = {a1}, b = {b1}\\nOutput: {question2(a1,b1)}\")\n",
        "print(f\"\\nInput: a = {a2}, b = {b2}\\nOutput: {question2(a2,b2)}\")"
      ]
    },
    {
      "cell_type": "code",
      "execution_count": null,
      "id": "ace1ed06",
      "metadata": {
        "id": "ace1ed06"
      },
      "outputs": [],
      "source": []
    },
    {
      "cell_type": "markdown",
      "id": "50c3f09a",
      "metadata": {
        "id": "50c3f09a"
      },
      "source": [
        "### Question 3: (20 Points: )"
      ]
    },
    {
      "cell_type": "markdown",
      "id": "d3badd4d",
      "metadata": {
        "id": "d3badd4d"
      },
      "source": [
        "![Google Drive Image](https://drive.google.com/uc?export=view&id=1M518k0QE-Av6n-N9muqM-DzVO8Ud4Bts)\n",
        "![Google Drive Image](https://drive.google.com/uc?export=view&id=1OJhWnWcvTvPf2ladoEHlEu6cTcLc7SA4)\n",
        "![Google Drive Image](https://drive.google.com/uc?export=view&id=1gwViHqksVX5p1RClMOyiYP9a8-KVfJaS)\n",
        "\n"
      ]
    },
    {
      "cell_type": "code",
      "execution_count": null,
      "id": "f6cb44ee",
      "metadata": {
        "colab": {
          "base_uri": "https://localhost:8080/"
        },
        "id": "f6cb44ee",
        "outputId": "6949abc2-7418-42ad-96fd-978e8d3ca601"
      },
      "outputs": [
        {
          "output_type": "stream",
          "name": "stdout",
          "text": [
            "Input: matrix = [[1, 2, 3], [4, 5, 6], [7, 8, 9]]\n",
            "Output: [[7, 4, 1], [8, 5, 2], [9, 6, 3]]\n",
            "\n",
            "Input: matrix = [[5, 1, 9, 11], [2, 4, 8, 10], [13, 3, 6, 7], [15, 14, 12, 16]]\n",
            "Output: [[15, 13, 2, 5], [14, 3, 4, 1], [12, 6, 8, 9], [16, 7, 10, 11]]\n"
          ]
        }
      ],
      "source": [
        "def question3(matrix):      #To rotate a matrix 90 degrees clockwise, you tranpose it and reverse each row. Referenced from https://math.stackexchange.com/questions/1676441/how-to-rotate-the-positions-of-a-matrix-by-90-degrees\n",
        "  len_matrix = len(matrix)\n",
        "\n",
        "  for i in range(len_matrix):      #tranposing the matrix\n",
        "    for j in range(i + 1, len_matrix):\n",
        "      matrix[i][j], matrix[j][i] = matrix[j][i], matrix[i][j]\n",
        "  #return matrix\n",
        "\n",
        "  for i in range(len_matrix):      #reversing the matrix\n",
        "    matrix[i] = matrix[i][::-1]\n",
        "\n",
        "  return matrix\n",
        "\n",
        "matrix1 = [[1,2,3],[4,5,6],[7,8,9]]\n",
        "matrix2 = [[5,1,9,11],[2,4,8,10],[13,3,6,7],[15,14,12,16]]\n",
        "\n",
        "print(f\"Input: matrix = {matrix1}\\nOutput: {question3(matrix1)}\")\n",
        "print(f\"\\nInput: matrix = {matrix2}\\nOutput: {question3(matrix2)}\")"
      ]
    },
    {
      "cell_type": "code",
      "execution_count": null,
      "id": "cfc95ace",
      "metadata": {
        "id": "cfc95ace"
      },
      "outputs": [],
      "source": []
    },
    {
      "cell_type": "markdown",
      "id": "d23a1c4b",
      "metadata": {
        "id": "d23a1c4b"
      },
      "source": [
        "### Question 4: (20 Points: )"
      ]
    },
    {
      "cell_type": "markdown",
      "id": "c9e04b80",
      "metadata": {
        "id": "c9e04b80"
      },
      "source": [
        "![Google Drive Image](https://drive.google.com/uc?export=view&id=1PkxUiN7Z9bnRnwtcoydYl_ZH19s3TpcE)\n",
        "![Google Drive Image](https://drive.google.com/uc?export=view&id=1Mz2kk7nawJLGKI0FgLZyAb2FNtxSo8Zf)\n",
        "\n"
      ]
    },
    {
      "cell_type": "code",
      "execution_count": null,
      "id": "d8780fce",
      "metadata": {
        "colab": {
          "base_uri": "https://localhost:8080/"
        },
        "id": "d8780fce",
        "outputId": "dcf3e702-7f5b-4707-c1d4-5fbc969ff4ac"
      },
      "outputs": [
        {
          "output_type": "stream",
          "name": "stdout",
          "text": [
            "Input: n = 5\n",
            "Output: True\n",
            "\n",
            "Input: n = 7\n",
            "Output: False\n",
            "\n",
            "Input: n = 11\n",
            "Output: False\n"
          ]
        }
      ],
      "source": [
        "def question4(n):       #Change n to binary representation, traverse through the bits, store current bit and last bit, if they're the same return false, else return true.\n",
        "  binary = bin(n)[2:]\n",
        "  previous = int(binary[0])\n",
        "  #print(binary)\n",
        "  #print(previous)\n",
        "\n",
        "  for bit in binary[1:]:\n",
        "    current = int(bit)\n",
        "\n",
        "    if (current == previous):\n",
        "      return False\n",
        "    else:\n",
        "      previous = current\n",
        "\n",
        "  return True\n",
        "\n",
        "n1,n2,n3 = 5, 7, 11\n",
        "\n",
        "print(f\"Input: n = {n1}\\nOutput: {question4(n1)}\")\n",
        "print(f\"\\nInput: n = {n2}\\nOutput: {question4(n2)}\")\n",
        "print(f\"\\nInput: n = {n3}\\nOutput: {question4(n3)}\")"
      ]
    },
    {
      "cell_type": "code",
      "execution_count": null,
      "id": "a52e08c2",
      "metadata": {
        "id": "a52e08c2"
      },
      "outputs": [],
      "source": []
    },
    {
      "cell_type": "markdown",
      "id": "a044a025",
      "metadata": {
        "id": "a044a025"
      },
      "source": [
        "### Question 5: (20 Points: )"
      ]
    },
    {
      "cell_type": "markdown",
      "id": "7aa814ec",
      "metadata": {
        "id": "7aa814ec"
      },
      "source": [
        "![Google Drive Image](https://drive.google.com/uc?export=view&id=1UqedmqrlbeF8fXRnN7kedPcm_HOg48Q9)\n",
        "![Google Drive Image](https://drive.google.com/uc?export=view&id=1JJSYqHv1EgfmOi-FN3nq01ugxNCcvMzY)\n",
        "\n"
      ]
    },
    {
      "cell_type": "code",
      "execution_count": null,
      "id": "6e9471de",
      "metadata": {
        "id": "6e9471de",
        "colab": {
          "base_uri": "https://localhost:8080/"
        },
        "outputId": "d0ab006e-7adc-4515-8a12-c47bf07bc353"
      },
      "outputs": [
        {
          "output_type": "stream",
          "name": "stdout",
          "text": [
            "Input: s = anagram, t = nagaram\n",
            "Output: True\n",
            "\n",
            "Input: a = rat, b = car\n",
            "Output: False\n"
          ]
        }
      ],
      "source": [
        "def question5(s, t):        #Check if their sorted versions are equal, two words that are anagrams have the same chars with the same frequency.\n",
        "  return sorted(s) == sorted(t)\n",
        "\n",
        "s1 = \"anagram\"\n",
        "t1 = \"nagaram\"\n",
        "s2 = \"rat\"\n",
        "t2 = \"car\"\n",
        "\n",
        "print(f\"Input: s = {s1}, t = {t1}\\nOutput: {question5(s1,t1)}\")\n",
        "print(f\"\\nInput: a = {s2}, b = {t2}\\nOutput: {question5(s2,t2)}\")\n"
      ]
    },
    {
      "cell_type": "code",
      "execution_count": null,
      "id": "a00db301",
      "metadata": {
        "id": "a00db301"
      },
      "outputs": [],
      "source": []
    },
    {
      "cell_type": "code",
      "execution_count": null,
      "id": "5b0e6141",
      "metadata": {
        "id": "5b0e6141"
      },
      "outputs": [],
      "source": []
    },
    {
      "cell_type": "code",
      "execution_count": null,
      "id": "8530a762",
      "metadata": {
        "id": "8530a762"
      },
      "outputs": [],
      "source": []
    }
  ],
  "metadata": {
    "celltoolbar": "Edit Metadata",
    "kernelspec": {
      "display_name": "Python 3 (ipykernel)",
      "language": "python",
      "name": "python3"
    },
    "language_info": {
      "codemirror_mode": {
        "name": "ipython",
        "version": 3
      },
      "file_extension": ".py",
      "mimetype": "text/x-python",
      "name": "python",
      "nbconvert_exporter": "python",
      "pygments_lexer": "ipython3",
      "version": "3.11.6"
    },
    "colab": {
      "provenance": []
    }
  },
  "nbformat": 4,
  "nbformat_minor": 5
}